{
 "cells": [
  {
   "cell_type": "markdown",
   "id": "1677ab24-932a-47bb-bac7-cd2b4f30feab",
   "metadata": {},
   "source": [
    "# Student Engagement Analytics — Analysis\n",
    "Exploration of `data/students.db` built from the synthetic dataset.\n",
    "\n",
    "**What this notebook does**\n",
    "- Connects to the SQLite database\n",
    "- Runs a few SQL slices (sanity checks)\n",
    "- Derives grade & attendance bands\n",
    "- Visualizes at-risk rates\n",
    "- Saves CSV outputs for the repo\n"
   ]
  },
  {
   "cell_type": "code",
   "execution_count": 1,
   "id": "dcc23ccc-f608-425f-aec5-0b099255c569",
   "metadata": {},
   "outputs": [
    {
     "name": "stdout",
     "output_type": "stream",
     "text": [
      "Cloning into 'student-engagement-analytics'...\n",
      "remote: Enumerating objects: 20, done.\u001b[K\n",
      "remote: Counting objects: 100% (20/20), done.\u001b[K\n",
      "remote: Compressing objects: 100% (17/17), done.\u001b[K\n",
      "remote: Total 20 (delta 4), reused 18 (delta 2), pack-reused 0 (from 0)\u001b[K\n",
      "Receiving objects: 100% (20/20), 41.19 KiB | 1.79 MiB/s, done.\n",
      "Resolving deltas: 100% (4/4), done.\n",
      "/Users/sultanmuhammad/Documents/GitHub Projects/student-engagement-analytics/student-engagement-analytics\n"
     ]
    }
   ],
   "source": [
    "!rm -rf student-engagement-analytics\n",
    "!git clone https://github.com/hellosultan/student-engagement-analytics.git\n",
    "%cd student-engagement-analytics"
   ]
  },
  {
   "cell_type": "code",
   "execution_count": 2,
   "id": "e15bdb7d-3470-49a7-90f3-c56f4e16620c",
   "metadata": {},
   "outputs": [
    {
     "name": "stdout",
     "output_type": "stream",
     "text": [
      "Ready. DB at: data/students.db\n"
     ]
    }
   ],
   "source": [
    "import os, pathlib, sqlite3, numpy as np, pandas as pd\n",
    "pathlib.Path(\"data\").mkdir(exist_ok=True)\n",
    "db_path = pathlib.Path(\"data/students.db\")\n",
    "\n",
    "if not db_path.exists():\n",
    "    rng = np.random.default_rng(42)\n",
    "    n = 1000\n",
    "    df = pd.DataFrame({\n",
    "        \"student_id\": np.arange(10001, 10001+n),\n",
    "        \"gender\": rng.choice([\"Male\",\"Female\"], size=n),\n",
    "        \"age\": rng.integers(17, 23, size=n),\n",
    "        \"attendance_rate\": np.round(rng.uniform(55, 100, size=n), 2),\n",
    "        \"avg_grade\": np.round(rng.normal(70, 10, size=n), 1).clip(40, 100),\n",
    "        \"submissions_late_pct\": np.round(rng.uniform(0, 45, size=n), 1),\n",
    "        \"activities_count\": rng.integers(0, 8, size=n),\n",
    "        \"parent_contacts\": rng.integers(0, 3, size=n),\n",
    "    })\n",
    "    df[\"prior_risk_flag\"] = ((df[\"avg_grade\"] < 60) | (df[\"attendance_rate\"] < 65)).astype(int)\n",
    "    df[\"at_risk\"] = (\n",
    "        (df[\"avg_grade\"] < 65) |\n",
    "        (df[\"attendance_rate\"] < 70) |\n",
    "        (df[\"submissions_late_pct\"] > 30) |\n",
    "        (df[\"prior_risk_flag\"] == 1)\n",
    "    ).astype(int)\n",
    "    con_tmp = sqlite3.connect(db_path.as_posix())\n",
    "    df.to_sql(\"students\", con_tmp, if_exists=\"replace\", index=False)\n",
    "    con_tmp.close()\n",
    "\n",
    "print(\"Ready. DB at:\", db_path.as_posix())"
   ]
  },
  {
   "cell_type": "code",
   "execution_count": 8,
   "id": "c91cbb34-8211-44e1-943d-71c3db0f7ac2",
   "metadata": {},
   "outputs": [
    {
     "name": "stdout",
     "output_type": "stream",
     "text": [
      "Connected to: /Users/sultanmuhammad/Documents/GitHub Projects/student-engagement-analytics/data/students.db\n"
     ]
    }
   ],
   "source": [
    "from pathlib import Path\n",
    "import sqlite3, pandas as pd\n",
    "import matplotlib.pyplot as plt\n",
    "\n",
    "# Display DataFrames without truncation (optional)\n",
    "pd.set_option(\"display.max_columns\", None)\n",
    "\n",
    "# Find DB whether notebook is in repo root or /notebooks\n",
    "candidates = [\n",
    "    Path.cwd() / \"data\" / \"students.db\",\n",
    "    Path.cwd().parent / \"data\" / \"students.db\",\n",
    "]\n",
    "db_path = next((p for p in candidates if p.exists()), None)\n",
    "assert db_path is not None, \"Couldn't find data/students.db. Run: python src/sql/load_to_sqlite.py\"\n",
    "\n",
    "con = sqlite3.connect(db_path.as_posix())\n",
    "print(\"Connected to:\", db_path)\n"
   ]
  },
  {
   "cell_type": "code",
   "execution_count": 9,
   "id": "697ff39b-c489-45fd-9e0a-338e5a1190c5",
   "metadata": {},
   "outputs": [
    {
     "data": {
      "text/html": [
       "<div>\n",
       "<style scoped>\n",
       "    .dataframe tbody tr th:only-of-type {\n",
       "        vertical-align: middle;\n",
       "    }\n",
       "\n",
       "    .dataframe tbody tr th {\n",
       "        vertical-align: top;\n",
       "    }\n",
       "\n",
       "    .dataframe thead th {\n",
       "        text-align: right;\n",
       "    }\n",
       "</style>\n",
       "<table border=\"1\" class=\"dataframe\">\n",
       "  <thead>\n",
       "    <tr style=\"text-align: right;\">\n",
       "      <th></th>\n",
       "      <th>name</th>\n",
       "    </tr>\n",
       "  </thead>\n",
       "  <tbody>\n",
       "    <tr>\n",
       "      <th>0</th>\n",
       "      <td>students</td>\n",
       "    </tr>\n",
       "  </tbody>\n",
       "</table>\n",
       "</div>"
      ],
      "text/plain": [
       "       name\n",
       "0  students"
      ]
     },
     "execution_count": 9,
     "metadata": {},
     "output_type": "execute_result"
    }
   ],
   "source": [
    "tables = pd.read_sql(\"SELECT name FROM sqlite_master WHERE type='table' ORDER BY 1;\", con)\n",
    "tables"
   ]
  },
  {
   "cell_type": "code",
   "execution_count": 10,
   "id": "b766da0a-055e-43b3-ade8-7e1ce36ebca2",
   "metadata": {},
   "outputs": [
    {
     "name": "stdout",
     "output_type": "stream",
     "text": [
      "students: 1000 rows\n"
     ]
    }
   ],
   "source": [
    "# Row counts per table\n",
    "tbls = tables['name'].tolist()\n",
    "for t in tbls:\n",
    "    n = pd.read_sql(f\"SELECT COUNT(*) AS n FROM {t};\", con)['n'][0]\n",
    "    print(f\"{t}: {n} rows\")"
   ]
  },
  {
   "cell_type": "markdown",
   "id": "c33c4361-c936-4418-81a4-4836fe0500bd",
   "metadata": {},
   "source": [
    "## Quick Peek"
   ]
  },
  {
   "cell_type": "code",
   "execution_count": 11,
   "id": "3bd789cf-7593-4192-bf2c-599eaf035546",
   "metadata": {},
   "outputs": [
    {
     "data": {
      "text/html": [
       "<div>\n",
       "<style scoped>\n",
       "    .dataframe tbody tr th:only-of-type {\n",
       "        vertical-align: middle;\n",
       "    }\n",
       "\n",
       "    .dataframe tbody tr th {\n",
       "        vertical-align: top;\n",
       "    }\n",
       "\n",
       "    .dataframe thead th {\n",
       "        text-align: right;\n",
       "    }\n",
       "</style>\n",
       "<table border=\"1\" class=\"dataframe\">\n",
       "  <thead>\n",
       "    <tr style=\"text-align: right;\">\n",
       "      <th></th>\n",
       "      <th>student_id</th>\n",
       "      <th>gender</th>\n",
       "      <th>age</th>\n",
       "      <th>attendance_rate</th>\n",
       "      <th>avg_grade</th>\n",
       "      <th>submissions_late_pct</th>\n",
       "      <th>activities_count</th>\n",
       "      <th>parent_contacts</th>\n",
       "      <th>prior_risk_flag</th>\n",
       "      <th>at_risk</th>\n",
       "    </tr>\n",
       "  </thead>\n",
       "  <tbody>\n",
       "    <tr>\n",
       "      <th>0</th>\n",
       "      <td>10001</td>\n",
       "      <td>Male</td>\n",
       "      <td>21</td>\n",
       "      <td>65.27</td>\n",
       "      <td>79.6</td>\n",
       "      <td>28.4</td>\n",
       "      <td>1</td>\n",
       "      <td>1</td>\n",
       "      <td>0</td>\n",
       "      <td>0</td>\n",
       "    </tr>\n",
       "    <tr>\n",
       "      <th>1</th>\n",
       "      <td>10002</td>\n",
       "      <td>Female</td>\n",
       "      <td>17</td>\n",
       "      <td>93.55</td>\n",
       "      <td>62.5</td>\n",
       "      <td>38.8</td>\n",
       "      <td>2</td>\n",
       "      <td>1</td>\n",
       "      <td>0</td>\n",
       "      <td>0</td>\n",
       "    </tr>\n",
       "    <tr>\n",
       "      <th>2</th>\n",
       "      <td>10003</td>\n",
       "      <td>Female</td>\n",
       "      <td>21</td>\n",
       "      <td>85.05</td>\n",
       "      <td>72.4</td>\n",
       "      <td>12.9</td>\n",
       "      <td>5</td>\n",
       "      <td>0</td>\n",
       "      <td>0</td>\n",
       "      <td>0</td>\n",
       "    </tr>\n",
       "    <tr>\n",
       "      <th>3</th>\n",
       "      <td>10004</td>\n",
       "      <td>Female</td>\n",
       "      <td>22</td>\n",
       "      <td>55.53</td>\n",
       "      <td>70.7</td>\n",
       "      <td>29.4</td>\n",
       "      <td>2</td>\n",
       "      <td>2</td>\n",
       "      <td>1</td>\n",
       "      <td>0</td>\n",
       "    </tr>\n",
       "    <tr>\n",
       "      <th>4</th>\n",
       "      <td>10005</td>\n",
       "      <td>Male</td>\n",
       "      <td>21</td>\n",
       "      <td>87.65</td>\n",
       "      <td>60.3</td>\n",
       "      <td>20.2</td>\n",
       "      <td>0</td>\n",
       "      <td>0</td>\n",
       "      <td>0</td>\n",
       "      <td>0</td>\n",
       "    </tr>\n",
       "  </tbody>\n",
       "</table>\n",
       "</div>"
      ],
      "text/plain": [
       "   student_id  gender  age  attendance_rate  avg_grade  submissions_late_pct  \\\n",
       "0       10001    Male   21            65.27       79.6                  28.4   \n",
       "1       10002  Female   17            93.55       62.5                  38.8   \n",
       "2       10003  Female   21            85.05       72.4                  12.9   \n",
       "3       10004  Female   22            55.53       70.7                  29.4   \n",
       "4       10005    Male   21            87.65       60.3                  20.2   \n",
       "\n",
       "   activities_count  parent_contacts  prior_risk_flag  at_risk  \n",
       "0                 1                1                0        0  \n",
       "1                 2                1                0        0  \n",
       "2                 5                0                0        0  \n",
       "3                 2                2                1        0  \n",
       "4                 0                0                0        0  "
      ]
     },
     "execution_count": 11,
     "metadata": {},
     "output_type": "execute_result"
    }
   ],
   "source": [
    "pd.read_sql(\"SELECT * FROM students LIMIT 5;\", con)"
   ]
  },
  {
   "cell_type": "markdown",
   "id": "3f02bf78-8af3-47d5-834f-18fc381bfb90",
   "metadata": {},
   "source": [
    "## Sanity Metrics\n",
    "Basic value ranges to make sure the data looks sensible."
   ]
  },
  {
   "cell_type": "code",
   "execution_count": 12,
   "id": "ed07c912-ab15-4974-ae46-9a16632ccbdf",
   "metadata": {},
   "outputs": [
    {
     "data": {
      "text/html": [
       "<div>\n",
       "<style scoped>\n",
       "    .dataframe tbody tr th:only-of-type {\n",
       "        vertical-align: middle;\n",
       "    }\n",
       "\n",
       "    .dataframe tbody tr th {\n",
       "        vertical-align: top;\n",
       "    }\n",
       "\n",
       "    .dataframe thead th {\n",
       "        text-align: right;\n",
       "    }\n",
       "</style>\n",
       "<table border=\"1\" class=\"dataframe\">\n",
       "  <thead>\n",
       "    <tr style=\"text-align: right;\">\n",
       "      <th></th>\n",
       "      <th>rows</th>\n",
       "      <th>min_grade</th>\n",
       "      <th>max_grade</th>\n",
       "      <th>min_attendance</th>\n",
       "      <th>max_attendance</th>\n",
       "      <th>min_late_pct</th>\n",
       "      <th>max_late_pct</th>\n",
       "    </tr>\n",
       "  </thead>\n",
       "  <tbody>\n",
       "    <tr>\n",
       "      <th>0</th>\n",
       "      <td>1000</td>\n",
       "      <td>27.5</td>\n",
       "      <td>100.0</td>\n",
       "      <td>24.95</td>\n",
       "      <td>99.56</td>\n",
       "      <td>0.5</td>\n",
       "      <td>77.1</td>\n",
       "    </tr>\n",
       "  </tbody>\n",
       "</table>\n",
       "</div>"
      ],
      "text/plain": [
       "   rows  min_grade  max_grade  min_attendance  max_attendance  min_late_pct  \\\n",
       "0  1000       27.5      100.0           24.95           99.56           0.5   \n",
       "\n",
       "   max_late_pct  \n",
       "0          77.1  "
      ]
     },
     "execution_count": 12,
     "metadata": {},
     "output_type": "execute_result"
    }
   ],
   "source": [
    "pd.read_sql(\"\"\"\n",
    "SELECT\n",
    "  COUNT(*) AS rows,\n",
    "  MIN(avg_grade)   AS min_grade,\n",
    "  MAX(avg_grade)   AS max_grade,\n",
    "  MIN(attendance_rate) AS min_attendance,\n",
    "  MAX(attendance_rate) AS max_attendance,\n",
    "  MIN(submissions_late_pct) AS min_late_pct,\n",
    "  MAX(submissions_late_pct) AS max_late_pct\n",
    "FROM students;\n",
    "\"\"\", con)"
   ]
  },
  {
   "cell_type": "markdown",
   "id": "e168a896-e901-4dc5-9936-8bd23e8e8a0a",
   "metadata": {},
   "source": [
    "## Grade Bands (derived from `avg_grade`)"
   ]
  },
  {
   "cell_type": "code",
   "execution_count": 13,
   "id": "32148cc0-13f9-473a-8ea3-5c44ab452403",
   "metadata": {},
   "outputs": [
    {
     "data": {
      "text/html": [
       "<div>\n",
       "<style scoped>\n",
       "    .dataframe tbody tr th:only-of-type {\n",
       "        vertical-align: middle;\n",
       "    }\n",
       "\n",
       "    .dataframe tbody tr th {\n",
       "        vertical-align: top;\n",
       "    }\n",
       "\n",
       "    .dataframe thead th {\n",
       "        text-align: right;\n",
       "    }\n",
       "</style>\n",
       "<table border=\"1\" class=\"dataframe\">\n",
       "  <thead>\n",
       "    <tr style=\"text-align: right;\">\n",
       "      <th></th>\n",
       "      <th>grade_band</th>\n",
       "      <th>n_students</th>\n",
       "      <th>avg_attendance_pct</th>\n",
       "      <th>avg_late_pct</th>\n",
       "      <th>avg_activities</th>\n",
       "      <th>at_risk_rate</th>\n",
       "    </tr>\n",
       "  </thead>\n",
       "  <tbody>\n",
       "    <tr>\n",
       "      <th>0</th>\n",
       "      <td>A</td>\n",
       "      <td>111</td>\n",
       "      <td>75.61</td>\n",
       "      <td>23.86</td>\n",
       "      <td>2.17</td>\n",
       "      <td>0.018</td>\n",
       "    </tr>\n",
       "    <tr>\n",
       "      <th>1</th>\n",
       "      <td>B</td>\n",
       "      <td>376</td>\n",
       "      <td>74.74</td>\n",
       "      <td>25.44</td>\n",
       "      <td>2.14</td>\n",
       "      <td>0.016</td>\n",
       "    </tr>\n",
       "    <tr>\n",
       "      <th>2</th>\n",
       "      <td>C</td>\n",
       "      <td>386</td>\n",
       "      <td>74.07</td>\n",
       "      <td>25.11</td>\n",
       "      <td>2.16</td>\n",
       "      <td>0.005</td>\n",
       "    </tr>\n",
       "    <tr>\n",
       "      <th>3</th>\n",
       "      <td>D/F</td>\n",
       "      <td>127</td>\n",
       "      <td>73.97</td>\n",
       "      <td>25.01</td>\n",
       "      <td>2.19</td>\n",
       "      <td>0.039</td>\n",
       "    </tr>\n",
       "  </tbody>\n",
       "</table>\n",
       "</div>"
      ],
      "text/plain": [
       "  grade_band  n_students  avg_attendance_pct  avg_late_pct  avg_activities  \\\n",
       "0          A         111               75.61         23.86            2.17   \n",
       "1          B         376               74.74         25.44            2.14   \n",
       "2          C         386               74.07         25.11            2.16   \n",
       "3        D/F         127               73.97         25.01            2.19   \n",
       "\n",
       "   at_risk_rate  \n",
       "0         0.018  \n",
       "1         0.016  \n",
       "2         0.005  \n",
       "3         0.039  "
      ]
     },
     "execution_count": 13,
     "metadata": {},
     "output_type": "execute_result"
    }
   ],
   "source": [
    "grade_bands = pd.read_sql(\"\"\"\n",
    "SELECT\n",
    "  CASE\n",
    "    WHEN avg_grade >= 85 THEN 'A'\n",
    "    WHEN avg_grade >= 70 THEN 'B'\n",
    "    WHEN avg_grade >= 55 THEN 'C'\n",
    "    ELSE 'D/F'\n",
    "  END AS grade_band,\n",
    "  COUNT(*)                           AS n_students,\n",
    "  ROUND(AVG(attendance_rate),2)      AS avg_attendance_pct,\n",
    "  ROUND(AVG(submissions_late_pct),2) AS avg_late_pct,\n",
    "  ROUND(AVG(activities_count),2)     AS avg_activities,\n",
    "  ROUND(AVG(at_risk),3)              AS at_risk_rate\n",
    "FROM students\n",
    "GROUP BY 1\n",
    "ORDER BY 1;\n",
    "\"\"\", con)\n",
    "grade_bands"
   ]
  },
  {
   "cell_type": "code",
   "execution_count": 14,
   "id": "81cfa90e-0797-4317-b733-b380cd6e77d5",
   "metadata": {},
   "outputs": [
    {
     "data": {
      "image/png": "[encoded data removed]",
      "text/plain": [
       "<Figure size 640x480 with 1 Axes>"
      ]
     },
     "metadata": {},
     "output_type": "display_data"
    }
   ],
   "source": [
    "ax = grade_bands.plot(x=\"grade_band\", y=\"at_risk_rate\", kind=\"bar\")\n",
    "ax.set_xlabel(\"Grade band\")\n",
    "ax.set_ylabel(\"At-risk rate\")\n",
    "ax.set_title(\"At-risk by Grade Band\")\n",
    "plt.tight_layout(); plt.show()\n"
   ]
  },
  {
   "cell_type": "markdown",
   "id": "e77f225b-4987-464f-b484-f27857764540",
   "metadata": {},
   "source": [
    "## Attendance Buckets (from `attendance_rate`)"
   ]
  },
  {
   "cell_type": "code",
   "execution_count": 15,
   "id": "65b773f4-fbae-4851-ac4e-7ac43d204ece",
   "metadata": {},
   "outputs": [
    {
     "data": {
      "text/html": [
       "<div>\n",
       "<style scoped>\n",
       "    .dataframe tbody tr th:only-of-type {\n",
       "        vertical-align: middle;\n",
       "    }\n",
       "\n",
       "    .dataframe tbody tr th {\n",
       "        vertical-align: top;\n",
       "    }\n",
       "\n",
       "    .dataframe thead th {\n",
       "        text-align: right;\n",
       "    }\n",
       "</style>\n",
       "<table border=\"1\" class=\"dataframe\">\n",
       "  <thead>\n",
       "    <tr style=\"text-align: right;\">\n",
       "      <th></th>\n",
       "      <th>attendance_bucket</th>\n",
       "      <th>n_students</th>\n",
       "      <th>at_risk_rate</th>\n",
       "    </tr>\n",
       "  </thead>\n",
       "  <tbody>\n",
       "    <tr>\n",
       "      <th>0</th>\n",
       "      <td>&lt;60</td>\n",
       "      <td>160</td>\n",
       "      <td>0.025</td>\n",
       "    </tr>\n",
       "    <tr>\n",
       "      <th>1</th>\n",
       "      <td>60-75</td>\n",
       "      <td>310</td>\n",
       "      <td>0.019</td>\n",
       "    </tr>\n",
       "    <tr>\n",
       "      <th>2</th>\n",
       "      <td>75-90</td>\n",
       "      <td>389</td>\n",
       "      <td>0.010</td>\n",
       "    </tr>\n",
       "    <tr>\n",
       "      <th>3</th>\n",
       "      <td>90-100</td>\n",
       "      <td>141</td>\n",
       "      <td>0.007</td>\n",
       "    </tr>\n",
       "  </tbody>\n",
       "</table>\n",
       "</div>"
      ],
      "text/plain": [
       "  attendance_bucket  n_students  at_risk_rate\n",
       "0               <60         160         0.025\n",
       "1             60-75         310         0.019\n",
       "2             75-90         389         0.010\n",
       "3            90-100         141         0.007"
      ]
     },
     "execution_count": 15,
     "metadata": {},
     "output_type": "execute_result"
    }
   ],
   "source": [
    "attendance_buckets = pd.read_sql(\"\"\"\n",
    "SELECT\n",
    "  CASE\n",
    "    WHEN attendance_rate < 60 THEN '<60'\n",
    "    WHEN attendance_rate < 75 THEN '60-75'\n",
    "    WHEN attendance_rate < 90 THEN '75-90'\n",
    "    ELSE '90-100'\n",
    "  END AS attendance_bucket,\n",
    "  COUNT(*)              AS n_students,\n",
    "  ROUND(AVG(at_risk),3) AS at_risk_rate\n",
    "FROM students\n",
    "GROUP BY 1\n",
    "ORDER BY CASE attendance_bucket\n",
    "  WHEN '<60' THEN 1 WHEN '60-75' THEN 2 WHEN '75-90' THEN 3 ELSE 4 END;\n",
    "\"\"\", con)\n",
    "attendance_buckets"
   ]
  },
  {
   "cell_type": "code",
   "execution_count": 16,
   "id": "5a56f54c-05ca-4908-9d9b-8bcc5f7d7ad2",
   "metadata": {},
   "outputs": [
    {
     "data": {
      "image/png": "[encoded data removed]",
      "text/plain": [
       "<Figure size 640x480 with 1 Axes>"
      ]
     },
     "metadata": {},
     "output_type": "display_data"
    }
   ],
   "source": [
    "ax = attendance_buckets.plot(x=\"attendance_bucket\", y=\"at_risk_rate\", kind=\"bar\")\n",
    "ax.set_xlabel(\"Attendance % bucket\")\n",
    "ax.set_ylabel(\"At-risk rate\")\n",
    "ax.set_title(\"At-risk by Attendance\")\n",
    "plt.tight_layout(); plt.show()"
   ]
  },
  {
   "cell_type": "markdown",
   "id": "431d6b88-f2e3-4540-b29c-40950782b105",
   "metadata": {},
   "source": [
    "## Gender Breakdown"
   ]
  },
  {
   "cell_type": "code",
   "execution_count": 17,
   "id": "9cca6d31-6c97-43ba-873c-2273a9075d2b",
   "metadata": {},
   "outputs": [
    {
     "data": {
      "text/html": [
       "<div>\n",
       "<style scoped>\n",
       "    .dataframe tbody tr th:only-of-type {\n",
       "        vertical-align: middle;\n",
       "    }\n",
       "\n",
       "    .dataframe tbody tr th {\n",
       "        vertical-align: top;\n",
       "    }\n",
       "\n",
       "    .dataframe thead th {\n",
       "        text-align: right;\n",
       "    }\n",
       "</style>\n",
       "<table border=\"1\" class=\"dataframe\">\n",
       "  <thead>\n",
       "    <tr style=\"text-align: right;\">\n",
       "      <th></th>\n",
       "      <th>gender</th>\n",
       "      <th>n_students</th>\n",
       "      <th>avg_grade</th>\n",
       "      <th>avg_attendance</th>\n",
       "      <th>at_risk_rate</th>\n",
       "    </tr>\n",
       "  </thead>\n",
       "  <tbody>\n",
       "    <tr>\n",
       "      <th>0</th>\n",
       "      <td>Female</td>\n",
       "      <td>514</td>\n",
       "      <td>70.15</td>\n",
       "      <td>74.43</td>\n",
       "      <td>0.014</td>\n",
       "    </tr>\n",
       "    <tr>\n",
       "      <th>1</th>\n",
       "      <td>Male</td>\n",
       "      <td>486</td>\n",
       "      <td>68.74</td>\n",
       "      <td>74.53</td>\n",
       "      <td>0.016</td>\n",
       "    </tr>\n",
       "  </tbody>\n",
       "</table>\n",
       "</div>"
      ],
      "text/plain": [
       "   gender  n_students  avg_grade  avg_attendance  at_risk_rate\n",
       "0  Female         514      70.15           74.43         0.014\n",
       "1    Male         486      68.74           74.53         0.016"
      ]
     },
     "execution_count": 17,
     "metadata": {},
     "output_type": "execute_result"
    }
   ],
   "source": [
    "by_gender = pd.read_sql(\"\"\"\n",
    "SELECT gender,\n",
    "       COUNT(*) AS n_students,\n",
    "       ROUND(AVG(avg_grade),2) AS avg_grade,\n",
    "       ROUND(AVG(attendance_rate),2) AS avg_attendance,\n",
    "       ROUND(AVG(at_risk),3) AS at_risk_rate\n",
    "FROM students\n",
    "GROUP BY gender\n",
    "ORDER BY gender;\n",
    "\"\"\", con)\n",
    "by_gender\n"
   ]
  },
  {
   "cell_type": "markdown",
   "id": "2f1093bb-918d-4798-8ae9-9aeeca013baa",
   "metadata": {},
   "source": [
    "## Export Results (for GitHub)\n",
    "CSV outputs go to `reports/figures/` so they show up in your repo."
   ]
  },
  {
   "cell_type": "code",
   "execution_count": 18,
   "id": "4f50863f-6b1d-49cd-ac7e-db465789fc9f",
   "metadata": {},
   "outputs": [
    {
     "name": "stdout",
     "output_type": "stream",
     "text": [
      "Saved CSVs to reports/figures/\n"
     ]
    }
   ],
   "source": [
    "import os\n",
    "os.makedirs(\"reports/figures\", exist_ok=True)\n",
    "grade_bands.to_csv(\"reports/figures/grade_bands.csv\", index=False)\n",
    "attendance_buckets.to_csv(\"reports/figures/risk_by_attendance_decile.csv\", index=False)\n",
    "by_gender.to_csv(\"reports/figures/by_gender.csv\", index=False)\n",
    "print(\"Saved CSVs to reports/figures/\")"
   ]
  },
  {
   "cell_type": "markdown",
   "id": "8db4535e-9ecb-4eb5-8223-4267f293081d",
   "metadata": {},
   "source": [
    "## Close Connection"
   ]
  },
  {
   "cell_type": "code",
   "execution_count": 20,
   "id": "e5b544e9-64f2-4371-a791-737e3f2311db",
   "metadata": {},
   "outputs": [],
   "source": [
    "con.close()"
   ]
  }
 ],
 "metadata": {
  "kernelspec": {
   "display_name": "Python 3 (ipykernel)",
   "language": "python",
   "name": "python3"
  },
  "language_info": {
   "codemirror_mode": {
    "name": "ipython",
    "version": 3
   },
   "file_extension": ".py",
   "mimetype": "text/x-python",
   "name": "python",
   "nbconvert_exporter": "python",
   "pygments_lexer": "ipython3",
   "version": "3.11.13"
  }
 },
 "nbformat": 4,
 "nbformat_minor": 5
}
